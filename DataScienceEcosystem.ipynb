{
  "metadata": {
    "kernelspec": {
      "name": "python",
      "display_name": "Python (Pyodide)",
      "language": "python"
    },
    "language_info": {
      "codemirror_mode": {
        "name": "python",
        "version": 3
      },
      "file_extension": ".py",
      "mimetype": "text/x-python",
      "name": "python",
      "nbconvert_exporter": "python",
      "pygments_lexer": "ipython3",
      "version": "3.8"
    }
  },
  "nbformat_minor": 5,
  "nbformat": 4,
  "cells": [
    {
      "id": "b19b122b-fa7e-44c3-bb7d-7504160cb6ba",
      "cell_type": "markdown",
      "source": "# Data Science Tools and Ecosystem",
      "metadata": {}
    },
    {
      "id": "93613c32-f0a7-40f8-ae74-f6b1471326a0",
      "cell_type": "markdown",
      "source": "In this notebook, Data Science Tools and Ecosystem are summarized.",
      "metadata": {}
    },
    {
      "id": "6640d420-244e-4373-9f54-1fcd57a9ac33",
      "cell_type": "markdown",
      "source": "**Objectives:**\n- List popular languages for Data Science  \n- List commonly used libraries in Data Science  \n- Identify open source Data Science tools  \n- Write simple arithmetic expressions in Python  \n- Convert units using Python expressions",
      "metadata": {}
    },
    {
      "id": "26a7c57b-88f0-483e-a956-503ee6b428fb",
      "cell_type": "markdown",
      "source": "Some of the popular languages that Data Scientists use are:\n1. Python\n2. R\n3. SQL",
      "metadata": {}
    },
    {
      "id": "e35173d9-9c50-4036-91a1-d67fbd8e8719",
      "cell_type": "markdown",
      "source": "Some of the commonly used libraries used by Data Scientists include:\n1. Pandas\n2. NumPy\n3. Matplotlib",
      "metadata": {}
    },
    {
      "id": "cbf1dacf-e42b-423c-a554-4e646eb642d1",
      "cell_type": "markdown",
      "source": "| Data Science Tools        |\n|---------------------------|\n| Jupyter Notebook          |\n| RStudio                   |\n| Visual Studio Code        |",
      "metadata": {}
    },
    {
      "id": "f3032ef3-5722-4b61-8024-437c0fc4f86b",
      "cell_type": "markdown",
      "source": "### Below are a few examples of evaluating arithmetic expressions in Python.",
      "metadata": {}
    },
    {
      "id": "e7be363a-d1ba-4764-9006-303c44130e84",
      "cell_type": "code",
      "source": "# This is a simple arithmetic expression to multiply then add integers\n(3 * 4) + 5",
      "metadata": {
        "trusted": true
      },
      "outputs": [
        {
          "execution_count": 1,
          "output_type": "execute_result",
          "data": {
            "text/plain": "17"
          },
          "metadata": {}
        }
      ],
      "execution_count": 1
    },
    {
      "id": "b057434b-c24f-410b-a21f-2fc4497d4d61",
      "cell_type": "code",
      "source": "# This will convert 200 minutes to hours by dividing by 60\n200 / 60",
      "metadata": {
        "trusted": true
      },
      "outputs": [
        {
          "execution_count": 2,
          "output_type": "execute_result",
          "data": {
            "text/plain": "3.3333333333333335"
          },
          "metadata": {}
        }
      ],
      "execution_count": 2
    },
    {
      "id": "b710da70-1334-43bd-9f7e-59588f822c07",
      "cell_type": "markdown",
      "source": "## Author\nJair Alessandro Espinoza Medrano",
      "metadata": {}
    },
    {
      "id": "6d2642b6-7e3a-46bb-92f8-831acd52ca9b",
      "cell_type": "code",
      "source": "",
      "metadata": {
        "trusted": true
      },
      "outputs": [],
      "execution_count": null
    }
  ]
}